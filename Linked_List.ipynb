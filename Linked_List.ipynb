{
 "cells": [
  {
   "cell_type": "code",
   "execution_count": 4,
   "id": "aab6614f-ea8e-4a6c-a4e8-548aac764584",
   "metadata": {},
   "outputs": [],
   "source": [
    "class ListNode:\n",
    "    def __init__(self,val=0,next=None):\n",
    "        self.val=val\n",
    "        self.next=next\n"
   ]
  },
  {
   "cell_type": "code",
   "execution_count": 5,
   "id": "da7d24db-c71d-4c55-ac63-94a9b6d2983b",
   "metadata": {},
   "outputs": [],
   "source": [
    "node1=ListNode()###object of class ListNode\n",
    "node1.val=100\n",
    "node2=ListNode(200)\n",
    "node1.next=node2"
   ]
  },
  {
   "cell_type": "code",
   "execution_count": 6,
   "id": "fe93f428-6dfa-4dde-8a2a-ce02e5133860",
   "metadata": {},
   "outputs": [
    {
     "ename": "TypeError",
     "evalue": "cannot unpack non-iterable ListNode object",
     "output_type": "error",
     "traceback": [
      "\u001b[1;31m---------------------------------------------------------------------------\u001b[0m",
      "\u001b[1;31mTypeError\u001b[0m                                 Traceback (most recent call last)",
      "Cell \u001b[1;32mIn[6], line 1\u001b[0m\n\u001b[1;32m----> 1\u001b[0m node1,node2,node3,node4,node5,node6,node7,node8,node9,node10\u001b[38;5;241m=\u001b[39mListNode()\u001b[38;5;66;03m##make instances of class\u001b[39;00m\n\u001b[0;32m      2\u001b[0m node1\u001b[38;5;241m.\u001b[39mval\u001b[38;5;241m=\u001b[39m\u001b[38;5;241m100\u001b[39m\n\u001b[0;32m      3\u001b[0m node2\u001b[38;5;241m.\u001b[39mval\u001b[38;5;241m=\u001b[39m\u001b[38;5;241m200\u001b[39m\n",
      "\u001b[1;31mTypeError\u001b[0m: cannot unpack non-iterable ListNode object"
     ]
    }
   ],
   "source": []
  },
  {
   "cell_type": "code",
   "execution_count": null,
   "id": "30eada15-2e2d-4140-9c68-cafbb8715e68",
   "metadata": {},
   "outputs": [],
   "source": []
  }
 ],
 "metadata": {
  "kernelspec": {
   "display_name": "Python 3 (ipykernel)",
   "language": "python",
   "name": "python3"
  },
  "language_info": {
   "codemirror_mode": {
    "name": "ipython",
    "version": 3
   },
   "file_extension": ".py",
   "mimetype": "text/x-python",
   "name": "python",
   "nbconvert_exporter": "python",
   "pygments_lexer": "ipython3",
   "version": "3.11.7"
  }
 },
 "nbformat": 4,
 "nbformat_minor": 5
}
