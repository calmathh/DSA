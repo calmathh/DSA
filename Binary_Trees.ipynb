{
 "cells": [
  {
   "cell_type": "code",
   "execution_count": 52,
   "id": "a3227c14-290c-4bf9-aee4-6882c1cf3f56",
   "metadata": {},
   "outputs": [],
   "source": [
    "class User():\n",
    "    def __init__(self,username,name,email):\n",
    "        self.username=username\n",
    "        self.name=name\n",
    "        self.email=email\n",
    "    def __repr__(self):\n",
    "        return(\"Username : {}, Name: {}, E-mail: {}\".format(self.username, self.name, self.email))\n",
    "    def __str__(self):\n",
    "        return self.__repr__()"
   ]
  },
  {
   "cell_type": "code",
   "execution_count": 53,
   "id": "b4ada28a-9e92-4835-9231-383474c186a9",
   "metadata": {},
   "outputs": [],
   "source": [
    "shraddha=User('schroddy','shraddha','shraddhakamath11@gmail.com')"
   ]
  },
  {
   "cell_type": "code",
   "execution_count": 54,
   "id": "eb573aa1-90b3-4063-a83b-702403b4a33f",
   "metadata": {},
   "outputs": [
    {
     "name": "stdout",
     "output_type": "stream",
     "text": [
      "Username : schroddy, Name: shraddha, E-mail: shraddhakamath11@gmail.com\n"
     ]
    }
   ],
   "source": [
    "print(shraddha)"
   ]
  },
  {
   "cell_type": "code",
   "execution_count": 55,
   "id": "69013df3-f594-40ac-9b9c-78ad1e940858",
   "metadata": {},
   "outputs": [
    {
     "data": {
      "text/plain": [
       "'shraddha'"
      ]
     },
     "execution_count": 55,
     "metadata": {},
     "output_type": "execute_result"
    }
   ],
   "source": [
    "shraddha.name"
   ]
  },
  {
   "cell_type": "code",
   "execution_count": 67,
   "id": "e4417cb9-1306-4490-bd27-d0eac527fc5c",
   "metadata": {},
   "outputs": [],
   "source": [
    "class database():\n",
    "    def __init__(self,users):\n",
    "        if users==None:\n",
    "            self.users=[]\n",
    "        else:\n",
    "            self.users=users\n",
    "    def insert(self,user):\n",
    "        for i in self.users:\n",
    "            if i.username>user.username:\n",
    "                break\n",
    "        self.users.insert(i,user)\n",
    "    def listall(self):\n",
    "        return self.users\n",
    "        \n",
    "        "
   ]
  },
  {
   "cell_type": "code",
   "execution_count": 68,
   "id": "e4a7b2c3-761a-42af-9395-09ec488f505d",
   "metadata": {},
   "outputs": [],
   "source": [
    "users=[shraddha]\n",
    "our_database=database(users)"
   ]
  },
  {
   "cell_type": "code",
   "execution_count": 69,
   "id": "771e8e32-e636-4124-8996-d719d708459a",
   "metadata": {},
   "outputs": [],
   "source": [
    "fruits=['apple','banana','strawberry']"
   ]
  },
  {
   "cell_type": "code",
   "execution_count": 70,
   "id": "9e9ba9c6-e638-4333-bb62-b896dc405d88",
   "metadata": {},
   "outputs": [],
   "source": [
    "fruits.insert(0,'abor')"
   ]
  },
  {
   "cell_type": "code",
   "execution_count": 71,
   "id": "1c83cf54-5b43-4abc-a3bd-219f921421d7",
   "metadata": {},
   "outputs": [
    {
     "data": {
      "text/plain": [
       "['abor', 'apple', 'banana', 'strawberry']"
      ]
     },
     "execution_count": 71,
     "metadata": {},
     "output_type": "execute_result"
    }
   ],
   "source": [
    "fruits"
   ]
  },
  {
   "cell_type": "code",
   "execution_count": 72,
   "id": "c5635c9d-f398-4845-926d-a744ab4f9023",
   "metadata": {},
   "outputs": [
    {
     "name": "stdout",
     "output_type": "stream",
     "text": [
      "3\n"
     ]
    }
   ],
   "source": [
    "for i in range (len(fruits)):\n",
    "    if fruits[i]>'orange':\n",
    "        break\n",
    "print(i)\n",
    "fruits.insert(i,'orange')"
   ]
  },
  {
   "cell_type": "code",
   "execution_count": 73,
   "id": "15dc53bf-8425-406e-acb1-ab784bef8f1a",
   "metadata": {},
   "outputs": [
    {
     "data": {
      "text/plain": [
       "['abor', 'apple', 'banana', 'orange', 'strawberry']"
      ]
     },
     "execution_count": 73,
     "metadata": {},
     "output_type": "execute_result"
    }
   ],
   "source": [
    "fruits"
   ]
  },
  {
   "cell_type": "code",
   "execution_count": 74,
   "id": "822ff327-eded-437e-ab83-4c483fa0216a",
   "metadata": {},
   "outputs": [
    {
     "name": "stdout",
     "output_type": "stream",
     "text": [
      "[Username : schroddy, Name: shraddha, E-mail: shraddhakamath11@gmail.com]\n"
     ]
    }
   ],
   "source": [
    "print(our_database.listall())"
   ]
  },
  {
   "cell_type": "code",
   "execution_count": 75,
   "id": "3948ed3c-92b2-425a-94c4-fbe4191dbc17",
   "metadata": {},
   "outputs": [
    {
     "ename": "TypeError",
     "evalue": "'User' object cannot be interpreted as an integer",
     "output_type": "error",
     "traceback": [
      "\u001b[1;31m---------------------------------------------------------------------------\u001b[0m",
      "\u001b[1;31mTypeError\u001b[0m                                 Traceback (most recent call last)",
      "Cell \u001b[1;32mIn[75], line 2\u001b[0m\n\u001b[0;32m      1\u001b[0m object2\u001b[38;5;241m=\u001b[39mUser(\u001b[38;5;124m'\u001b[39m\u001b[38;5;124mRahul\u001b[39m\u001b[38;5;124m'\u001b[39m,\u001b[38;5;124m'\u001b[39m\u001b[38;5;124mRahul Vaid\u001b[39m\u001b[38;5;124m'\u001b[39m,\u001b[38;5;124m'\u001b[39m\u001b[38;5;124mrahulvaid@gmail.com\u001b[39m\u001b[38;5;124m'\u001b[39m)\n\u001b[1;32m----> 2\u001b[0m our_database\u001b[38;5;241m.\u001b[39minsert(object2)\n",
      "Cell \u001b[1;32mIn[67], line 11\u001b[0m, in \u001b[0;36mdatabase.insert\u001b[1;34m(self, user)\u001b[0m\n\u001b[0;32m      9\u001b[0m     \u001b[38;5;28;01mif\u001b[39;00m i\u001b[38;5;241m.\u001b[39musername\u001b[38;5;241m>\u001b[39muser\u001b[38;5;241m.\u001b[39musername:\n\u001b[0;32m     10\u001b[0m         \u001b[38;5;28;01mbreak\u001b[39;00m\n\u001b[1;32m---> 11\u001b[0m \u001b[38;5;28mself\u001b[39m\u001b[38;5;241m.\u001b[39musers\u001b[38;5;241m.\u001b[39minsert(i,user)\n",
      "\u001b[1;31mTypeError\u001b[0m: 'User' object cannot be interpreted as an integer"
     ]
    }
   ],
   "source": [
    "object2=User('Rahul','Rahul Vaid','rahulvaid@gmail.com')\n",
    "our_database.insert(object2)"
   ]
  },
  {
   "cell_type": "code",
   "execution_count": 76,
   "id": "4d888a50-a82a-455a-8352-816c847ac3e5",
   "metadata": {},
   "outputs": [],
   "source": [
    "Akshat_object=User('aks','Akahaat','akshi@gmail.com')\n",
    "Surabhi_obj=User('surabhii','Surabhi','surbhi@gmail.com')\n",
    "Nancy_obj=User('Naaaannnccy','Nancy Chaudhry','nan@chaudry.com')"
   ]
  },
  {
   "cell_type": "code",
   "execution_count": 77,
   "id": "63794bfc-44ee-408f-ab75-502b56af7bce",
   "metadata": {},
   "outputs": [
    {
     "ename": "TypeError",
     "evalue": "'User' object cannot be interpreted as an integer",
     "output_type": "error",
     "traceback": [
      "\u001b[1;31m---------------------------------------------------------------------------\u001b[0m",
      "\u001b[1;31mTypeError\u001b[0m                                 Traceback (most recent call last)",
      "Cell \u001b[1;32mIn[77], line 3\u001b[0m\n\u001b[0;32m      1\u001b[0m Student_List\u001b[38;5;241m=\u001b[39m[Akshat_object,Surabhi_obj,Nancy_obj]\n\u001b[0;32m      2\u001b[0m \u001b[38;5;28;01mfor\u001b[39;00m i \u001b[38;5;129;01min\u001b[39;00m Student_List:\n\u001b[1;32m----> 3\u001b[0m     our_database\u001b[38;5;241m.\u001b[39minsert(i)\n",
      "Cell \u001b[1;32mIn[67], line 11\u001b[0m, in \u001b[0;36mdatabase.insert\u001b[1;34m(self, user)\u001b[0m\n\u001b[0;32m      9\u001b[0m     \u001b[38;5;28;01mif\u001b[39;00m i\u001b[38;5;241m.\u001b[39musername\u001b[38;5;241m>\u001b[39muser\u001b[38;5;241m.\u001b[39musername:\n\u001b[0;32m     10\u001b[0m         \u001b[38;5;28;01mbreak\u001b[39;00m\n\u001b[1;32m---> 11\u001b[0m \u001b[38;5;28mself\u001b[39m\u001b[38;5;241m.\u001b[39musers\u001b[38;5;241m.\u001b[39minsert(i,user)\n",
      "\u001b[1;31mTypeError\u001b[0m: 'User' object cannot be interpreted as an integer"
     ]
    }
   ],
   "source": [
    "Student_List=[Akshat_object,Surabhi_obj,Nancy_obj]\n",
    "for i in Student_List:\n",
    "    our_database.insert(i)"
   ]
  },
  {
   "cell_type": "code",
   "execution_count": 66,
   "id": "6b89a726-e7bb-47f0-bfbc-e277816aa86c",
   "metadata": {},
   "outputs": [
    {
     "data": {
      "text/plain": [
       "'aks'"
      ]
     },
     "execution_count": 66,
     "metadata": {},
     "output_type": "execute_result"
    }
   ],
   "source": [
    "Akshat_object.username"
   ]
  },
  {
   "cell_type": "code",
   "execution_count": null,
   "id": "21dbaf2b-386f-4452-bab8-185f52c70a95",
   "metadata": {},
   "outputs": [],
   "source": []
  }
 ],
 "metadata": {
  "kernelspec": {
   "display_name": "Python 3 (ipykernel)",
   "language": "python",
   "name": "python3"
  },
  "language_info": {
   "codemirror_mode": {
    "name": "ipython",
    "version": 3
   },
   "file_extension": ".py",
   "mimetype": "text/x-python",
   "name": "python",
   "nbconvert_exporter": "python",
   "pygments_lexer": "ipython3",
   "version": "3.11.7"
  }
 },
 "nbformat": 4,
 "nbformat_minor": 5
}
