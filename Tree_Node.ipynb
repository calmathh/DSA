{
 "cells": [
  {
   "cell_type": "code",
   "execution_count": 1,
   "id": "5a878500-9153-4577-a145-fe42f00a8959",
   "metadata": {},
   "outputs": [],
   "source": [
    "class Treenode():\n",
    "    def __init__(self,key):\n",
    "        self.key=key\n",
    "        self.left=None\n",
    "        self.right=None"
   ]
  },
  {
   "cell_type": "code",
   "execution_count": 4,
   "id": "412f8eac-653b-4d34-92da-48aba5237e07",
   "metadata": {},
   "outputs": [],
   "source": [
    "node0=Treenode(3)"
   ]
  },
  {
   "cell_type": "code",
   "execution_count": 5,
   "id": "97a78393-b867-46f0-ab63-d8df2d90c852",
   "metadata": {},
   "outputs": [],
   "source": [
    "node1=Treenode(4)"
   ]
  },
  {
   "cell_type": "code",
   "execution_count": 6,
   "id": "7fa82627-88ba-4ef8-8a07-183d5c31ad68",
   "metadata": {},
   "outputs": [],
   "source": [
    "node2=Treenode(5)"
   ]
  },
  {
   "cell_type": "code",
   "execution_count": 7,
   "id": "e8d5375a-e589-4285-9ae2-f85ce946fd3e",
   "metadata": {},
   "outputs": [],
   "source": [
    "node0.left=node1\n",
    "node0.right=node2"
   ]
  },
  {
   "cell_type": "code",
   "execution_count": 9,
   "id": "da7744a4-8b2d-41d2-839c-8fc49ec91f4f",
   "metadata": {},
   "outputs": [
    {
     "data": {
      "text/plain": [
       "<__main__.Treenode at 0x22683396e10>"
      ]
     },
     "execution_count": 9,
     "metadata": {},
     "output_type": "execute_result"
    }
   ],
   "source": [
    "node1"
   ]
  },
  {
   "cell_type": "code",
   "execution_count": 10,
   "id": "655be329-a03e-400e-be3e-1d9d07b580c9",
   "metadata": {},
   "outputs": [],
   "source": [
    "root=node0"
   ]
  },
  {
   "cell_type": "code",
   "execution_count": 11,
   "id": "894664c2-980c-4d6d-b09a-4b7558c4c6ee",
   "metadata": {},
   "outputs": [
    {
     "data": {
      "text/plain": [
       "3"
      ]
     },
     "execution_count": 11,
     "metadata": {},
     "output_type": "execute_result"
    }
   ],
   "source": [
    "root.key"
   ]
  },
  {
   "cell_type": "code",
   "execution_count": 13,
   "id": "8972fe08-80e1-41ba-be1f-6db9126d476e",
   "metadata": {},
   "outputs": [
    {
     "data": {
      "text/plain": [
       "4"
      ]
     },
     "execution_count": 13,
     "metadata": {},
     "output_type": "execute_result"
    }
   ],
   "source": [
    "root.left.key"
   ]
  },
  {
   "cell_type": "code",
   "execution_count": 14,
   "id": "2ebfc5a4-4186-4cec-a717-07846e8c9ccf",
   "metadata": {},
   "outputs": [
    {
     "data": {
      "text/plain": [
       "5"
      ]
     },
     "execution_count": 14,
     "metadata": {},
     "output_type": "execute_result"
    }
   ],
   "source": [
    "root.right.key"
   ]
  },
  {
   "cell_type": "code",
   "execution_count": 16,
   "id": "2b6564ac-b3c2-4149-9cb1-99dc943635e3",
   "metadata": {},
   "outputs": [],
   "source": [
    "root=Treenode(2)"
   ]
  },
  {
   "cell_type": "code",
   "execution_count": 26,
   "id": "addd90a2-0756-4fca-8ea8-8b6cee532390",
   "metadata": {},
   "outputs": [],
   "source": [
    "node3=Treenode(3)\n",
    "node5=Treenode(5)\n",
    "node1=Treenode(1)\n",
    "node3_later=Treenode(3)\n",
    "node7=Treenode(7)\n",
    "node4=Treenode(4)\n",
    "node6=Treenode(6)\n",
    "node8=Treenode(8)\n"
   ]
  },
  {
   "cell_type": "code",
   "execution_count": 27,
   "id": "2a28468c-e799-4d11-a244-b0bff16355db",
   "metadata": {},
   "outputs": [],
   "source": [
    "root.left=node3\n",
    "root.right=node5"
   ]
  },
  {
   "cell_type": "code",
   "execution_count": 28,
   "id": "cce4caf3-4a7d-4bc7-8bf0-db0234933259",
   "metadata": {},
   "outputs": [],
   "source": [
    "node3.left=node1\n"
   ]
  },
  {
   "cell_type": "code",
   "execution_count": 29,
   "id": "41027034-0c8f-411b-8551-38cd07abfc62",
   "metadata": {},
   "outputs": [],
   "source": [
    "node5.left=node3_later\n",
    "node5.right=node7\n",
    "node3.right=node4\n",
    "node7.left=6\n",
    "node7.right=8"
   ]
  },
  {
   "cell_type": "code",
   "execution_count": 35,
   "id": "3c31035a-cd01-4631-8db6-789e9391e739",
   "metadata": {},
   "outputs": [
    {
     "ename": "SyntaxError",
     "evalue": "invalid syntax. Perhaps you forgot a comma? (1002639639.py, line 2)",
     "output_type": "error",
     "traceback": [
      "\u001b[1;36m  Cell \u001b[1;32mIn[35], line 2\u001b[1;36m\u001b[0m\n\u001b[1;33m    print(node{i}.left.key)\u001b[0m\n\u001b[1;37m          ^\u001b[0m\n\u001b[1;31mSyntaxError\u001b[0m\u001b[1;31m:\u001b[0m invalid syntax. Perhaps you forgot a comma?\n"
     ]
    }
   ],
   "source": [
    "for i in [3,4,5,6,7]:\n",
    "    print(node{i}.left.key)"
   ]
  },
  {
   "cell_type": "code",
   "execution_count": 31,
   "id": "d0d733e2-d86e-493f-8685-d0d8f7fbadac",
   "metadata": {},
   "outputs": [
    {
     "data": {
      "text/plain": [
       "3"
      ]
     },
     "execution_count": 31,
     "metadata": {},
     "output_type": "execute_result"
    }
   ],
   "source": [
    "node3.key"
   ]
  },
  {
   "cell_type": "code",
   "execution_count": null,
   "id": "d7da69ac-adb7-4bc5-9ef2-226638e95316",
   "metadata": {},
   "outputs": [],
   "source": []
  }
 ],
 "metadata": {
  "kernelspec": {
   "display_name": "Python 3 (ipykernel)",
   "language": "python",
   "name": "python3"
  },
  "language_info": {
   "codemirror_mode": {
    "name": "ipython",
    "version": 3
   },
   "file_extension": ".py",
   "mimetype": "text/x-python",
   "name": "python",
   "nbconvert_exporter": "python",
   "pygments_lexer": "ipython3",
   "version": "3.11.7"
  }
 },
 "nbformat": 4,
 "nbformat_minor": 5
}
